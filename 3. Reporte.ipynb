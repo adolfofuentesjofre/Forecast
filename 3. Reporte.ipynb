{
 "cells": [
  {
   "cell_type": "markdown",
   "id": "aa506c54",
   "metadata": {},
   "source": [
    "# Proyecto Analisis de Datos - Reporte\n",
    "\n",
    "### Modelo de _Forecast_ de flujo de clientes en una empresa en Chile"
   ]
  },
  {
   "cell_type": "markdown",
   "id": "0dc1a337",
   "metadata": {},
   "source": [
    "## Conclusiones y Comentarios Finales\n",
    "\n",
    "Este informe contiene un análisis de datos y visualización de información del flujo de clientes en una empresa de Chile. \n",
    "\n",
    "### Fase de Limpieza\n",
    "\n",
    "En el proceso de limpieza se filtró especificamente los datos de un store en particular de la empresa y de un rango de tiempo en particular. Luego se agregó la serie de tiempo debido a que la granularidad del dataset original.\n",
    "\n",
    "En esa misma fase tambien se realizó un analisis descriptivo de la serie de tiempo agrupada por meses, dias, fines de semana, rango de dias, rangos horarios y otras agregaciones de forma tal de entender la estacionalidad de la serie de tiempo y explicar que variables son las que más influyen en el fluujo de clientes por rango horario.\n",
    "\n",
    "Finalmente durante la fase de limpieza se realizó la imputación de missing values debidó a que en algunos rangos horarios el store no abrió por tanto se imputo con valor cero. \n",
    "\n",
    "### Fase de Analisis\n",
    "\n",
    "En esta fase se probaron distintos modelos desde medias moviles, modelos ARIMA, Modelo AUTOARIMA y Modelo SARIMA. Luego de realizar el modelo auto-arima y encontrar los parametros optimos se utilizó estos parametros para entrenar el modelo SARIMA, el cual incluye la componente de estacionalidad y que efectivamente mostró un mejor desempeño que el ARIMA.  \n",
    "\n",
    "\n",
    "### Conlusiones:\n",
    "\n",
    "Algunos modelos entregaban como pronostico valores negativos. Sin embargo esto no tiene sentido pensando en una implementación real debido a que no pueden haber un registro menor a cero. En la sección de \"analisis\" se hizo una discusión mas profunda sobré este tema donde finalmente se opto por reemplazar cualquier valor negativo por \"cero\" con una regla de negocio. Finalmente este fué el modelo que presentó mejor performance con parametros ARIMA(3, 0, 2), es decir, Autoregresivo de 3, sin diferenciar la serie de tiempo y media movil de los ultimos 2 registros. El este modelo presenta una constante de 127.4602 y los betas más grandes los tienen las Componentes Autoregresivas 1,2 y 3 y las media movil 1 y 2, lo cual hace perfecto sentido considerando que son los valores más cercanos al valore de pronostico. Por otra parte se debe indicar que tanto el grafico Q-Q como la distribución de residuos no se ajusta tan bien y que la mayoria de las diferencias ocurren en las cola.\n",
    "\n",
    "En la sección de analisis tambien se explicó el excesivo tiempo de entrenamiento de algunos modelos. Inicialmente el proposito era hacer un grid search , sin embargo, al evaluar el tiempo que se demoraba en entrenar cada combinación de los parametros se opto por buscar como solución el modelo de Auto-arima. Sin embargo, este modelo tambien se demoraba mucho en converger e incluso cuando se intento aumentar el Q maximo o el P Maximo que representan los valores maximos para los parametros de Autoregresivo o Media Movil el modelo entregaba un error por falta de memoria. Tambien hay que señalar que muchos modelos ni si quiera convergian a una solución. Debido a todas estas consideraciones y dificultades no se intentó incluir una variable exogena al modelo(modelo SARIMAX).\n",
    "\n",
    "Este trabajo representa un primer modelo de Forecast o modelo de pronostico de demanda de las siguentes 24 horas. Lo bueno es que sentará las bases para expandirse hacia otras store de negocios de la compañía y poder hacer un Forecast para cada unidad de manera independiente. A modo de prueba de concepto, se eligió un local de la Compañía, que representa una unidad de estudio interesante por su ubicación geográfica y volumen de visitantes que por tema de confidencialidad de datos simplemente se omitirá el nombre. \n",
    "\n",
    "Para siguientes analisis destacamos que ya se contruyó todas las variables que caracterizan cada punto de la serie de tiempo, desde el rango horario, presencia de fin de semana, dia festivo, posición de la semana del mes, etc. Con esta información se podría entrenar una red nueuronal o un modelo más complejo que permita no solo una variable exogena sino que multiples variables exogenas y que tambien pueda soportar una mayor cantidad de registros de la serie de tiempo (LAG-N). De la misma manera un modelo más robusto tambien permitiría predecir no solo los siguentes 24 registros, sino que podría predecir una ventana de tiempo de una semana compelta o 168 registros, esto sería de mayor utilidad para la compañia debido a que permitiría anticipar la demanda con un periodo de tiempo que permita responder y realizar adecuaciones mayores en la operación. Finalmente comentar que  si bien en la sección de analisis se realizó el calculo de distintos indicadores como Mean Absolute Error (MAE), Mean Squared Error (MSE) y  Root Mean Squared Error (RMSE), la ventana de validación fué el ultimo periodo de la serie de tiempo, lo cual es correcto, sin embargo el conjunto de validación podría haber sido más robusto si se hubiera hecho una valdiación de distintos cortes de la linea de tiempo censurando la data, de esta manera se habría evaluado otros días de la semana, otro rango horario, pertenecientes a distintos meses y distintas semanas del mes.\n",
    "\n",
    "Finalmente poner en valor que prefierió utilizar datos propios y reales de una compañia. Muchas veces estos datos no son tan estructurados como los bancos de datos o dataset de ejemplo que se suele utilizar y requierió una fase de preprocesamiento más extensa y compleja. Tambien destacar que tendrá una aplicación real en una compañia y que es escalable. \n",
    "\n",
    "\n"
   ]
  },
  {
   "cell_type": "code",
   "execution_count": null,
   "id": "8281fecc",
   "metadata": {},
   "outputs": [],
   "source": []
  }
 ],
 "metadata": {
  "kernelspec": {
   "display_name": "Python 3 (ipykernel)",
   "language": "python",
   "name": "python3"
  },
  "language_info": {
   "codemirror_mode": {
    "name": "ipython",
    "version": 3
   },
   "file_extension": ".py",
   "mimetype": "text/x-python",
   "name": "python",
   "nbconvert_exporter": "python",
   "pygments_lexer": "ipython3",
   "version": "3.9.13"
  }
 },
 "nbformat": 4,
 "nbformat_minor": 5
}
